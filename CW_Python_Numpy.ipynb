{
  "nbformat": 4,
  "nbformat_minor": 0,
  "metadata": {
    "colab": {
      "name": "CW Python Numpy.ipynb",
      "provenance": [],
      "authorship_tag": "ABX9TyOBRiAbpis0guqxFDZJIC/+",
      "include_colab_link": true
    },
    "kernelspec": {
      "name": "python3",
      "display_name": "Python 3"
    },
    "language_info": {
      "name": "python"
    }
  },
  "cells": [
    {
      "cell_type": "markdown",
      "metadata": {
        "id": "view-in-github",
        "colab_type": "text"
      },
      "source": [
        "<a href=\"https://colab.research.google.com/github/keziatanesha/cosong/blob/main/CW_Python_Numpy.ipynb\" target=\"_parent\"><img src=\"https://colab.research.google.com/assets/colab-badge.svg\" alt=\"Open In Colab\"/></a>"
      ]
    },
    {
      "cell_type": "markdown",
      "metadata": {
        "id": "H7VbJYWSC5ak"
      },
      "source": [
        "Exercise 9\n"
      ]
    },
    {
      "cell_type": "code",
      "metadata": {
        "colab": {
          "base_uri": "https://localhost:8080/"
        },
        "id": "n06iI0J7C1Rb",
        "outputId": "832fb6ad-1a8b-4fe9-9d4f-116a7c82acc9"
      },
      "source": [
        "import numpy as np\n",
        "print(np.__version__)"
      ],
      "execution_count": null,
      "outputs": [
        {
          "output_type": "stream",
          "text": [
            "1.19.5\n"
          ],
          "name": "stdout"
        }
      ]
    },
    {
      "cell_type": "code",
      "metadata": {
        "colab": {
          "base_uri": "https://localhost:8080/"
        },
        "id": "6IxaKhuJDJVK",
        "outputId": "8234b52a-dd02-424f-96a1-433fac4b82d1"
      },
      "source": [
        "import time as time\n",
        "x_list=[i for i in range(100000)]\n",
        "x=np.array(x_list)\n",
        "\n",
        "# usual list\n",
        "st=time.process_time()\n",
        "x_list=[i+10 for i in x_list]\n",
        "ed=time.process_time()\n",
        "print(round(ed-st,5))\n",
        "\n",
        "# with numpy arrays\n",
        "st=time.process_time()\n",
        "x+=10\n",
        "ed=time.process_time()\n",
        "print(round(ed-st,5))\n",
        "# notice that for numpy arrays the operation is much faster!"
      ],
      "execution_count": null,
      "outputs": [
        {
          "output_type": "stream",
          "text": [
            "0.0098\n",
            "0.00093\n"
          ],
          "name": "stdout"
        }
      ]
    },
    {
      "cell_type": "code",
      "metadata": {
        "colab": {
          "base_uri": "https://localhost:8080/"
        },
        "id": "EiLmxHGVDsE5",
        "outputId": "3a4ff102-d033-4c16-e90f-1f39b896ae70"
      },
      "source": [
        "# Numpy arrays can be initialised with multidimensional python lists\n",
        "x=np.array([1,2,3,4])\n",
        "print(type(x))\n",
        "print(x[0],x[1],x[2],x[3])\n",
        "x[1]=x[2]\n",
        "print(x)\n",
        "print(x.shape)\n",
        "\n",
        "y=np.array([[1,2,3],[4,5,6],[7,8,9]])\n",
        "print(y.shape)\n",
        "print(y.size)\n",
        "print(y[1,2],y[0,1],y[2,2])\n",
        "\n",
        "#indexing with negative indices\n",
        "print(y[1,-1])"
      ],
      "execution_count": null,
      "outputs": [
        {
          "output_type": "stream",
          "text": [
            "<class 'numpy.ndarray'>\n",
            "1 2 3 4\n",
            "[1 3 3 4]\n",
            "(4,)\n",
            "(3, 3)\n",
            "9\n",
            "6 2 9\n",
            "6\n"
          ],
          "name": "stdout"
        }
      ]
    },
    {
      "cell_type": "code",
      "metadata": {
        "colab": {
          "base_uri": "https://localhost:8080/"
        },
        "id": "x-x-FqDZEfq1",
        "outputId": "69b9b905-4919-42d1-94f6-b383e95e1033"
      },
      "source": [
        "# slicing\n",
        "x=np.random.random((4,3))\n",
        "print(x)\n",
        "\n",
        "y=x[1:3,1:3]\n",
        "y[0,0]=0\n",
        "print(x)\n",
        "# slice is a view into the original array so modifying it will modify the original array as well"
      ],
      "execution_count": null,
      "outputs": [
        {
          "output_type": "stream",
          "text": [
            "[[0.01451334 0.09635294 0.12840121]\n",
            " [0.31708899 0.22942866 0.52095911]\n",
            " [0.56002762 0.346785   0.92718556]\n",
            " [0.86851292 0.62482821 0.35831934]]\n",
            "[[0.01451334 0.09635294 0.12840121]\n",
            " [0.31708899 0.         0.52095911]\n",
            " [0.56002762 0.346785   0.92718556]\n",
            " [0.86851292 0.62482821 0.35831934]]\n"
          ],
          "name": "stdout"
        }
      ]
    },
    {
      "cell_type": "code",
      "metadata": {
        "colab": {
          "base_uri": "https://localhost:8080/"
        },
        "id": "-latQ2fSFVp0",
        "outputId": "9d6980fb-749c-40e8-cf99-870c44479253"
      },
      "source": [
        "# difference of integer indexing and slicing\n",
        "\n",
        "x=np.random.random((5,5))\n",
        "print(x)\n",
        "y1=x[:,1]\n",
        "y2=x[:,1:2]\n",
        "print(y1,y1.shape)\n",
        "print(y2,y2.shape)\n",
        "\n",
        "z1=x[:,1]\n",
        "z2=x[:,1:2]\n",
        "print(z1,z1.shape)\n",
        "print(z2,z2.shape)\n",
        "\n",
        "print(x[[1,2,3],:].shape)"
      ],
      "execution_count": null,
      "outputs": [
        {
          "output_type": "stream",
          "text": [
            "[[0.49940181 0.4195103  0.38514656 0.71826527 0.6287286 ]\n",
            " [0.0993436  0.3491571  0.75061275 0.64501214 0.55672705]\n",
            " [0.38488911 0.35915269 0.764277   0.6394005  0.26093407]\n",
            " [0.70635164 0.66130632 0.85968882 0.68207478 0.56021635]\n",
            " [0.12178269 0.75911695 0.36478372 0.64192495 0.85070041]]\n",
            "[0.4195103  0.3491571  0.35915269 0.66130632 0.75911695] (5,)\n",
            "[[0.4195103 ]\n",
            " [0.3491571 ]\n",
            " [0.35915269]\n",
            " [0.66130632]\n",
            " [0.75911695]] (5, 1)\n",
            "[0.4195103  0.3491571  0.35915269 0.66130632 0.75911695] (5,)\n",
            "[[0.4195103 ]\n",
            " [0.3491571 ]\n",
            " [0.35915269]\n",
            " [0.66130632]\n",
            " [0.75911695]] (5, 1)\n",
            "(3, 5)\n"
          ],
          "name": "stdout"
        }
      ]
    },
    {
      "cell_type": "code",
      "metadata": {
        "colab": {
          "base_uri": "https://localhost:8080/"
        },
        "id": "0FpEVRDYGaL2",
        "outputId": "79f17ab8-b99c-4e75-eaf9-34413e62b7c1"
      },
      "source": [
        "# integer slicing tricks : modify elements in rows or columns on an np array using integer index\n",
        "\n",
        "x=np.random.random([5,3])\n",
        "\n",
        "#divide an element for each row by 2\n",
        "row_ind=[1,0,2,0,1]\n",
        "r,c=x.shape\n",
        "print(x[np.arange(r),row_ind])\n",
        "print(x)\n",
        "x[np.arange(r),row_ind]/=2\n",
        "print(x)\n",
        "\n",
        "#multiply an element from each column by 5\n",
        "col_ind=[3,4,1]\n",
        "x[col_ind,np.arange(c)]*=5\n",
        "print(x)"
      ],
      "execution_count": null,
      "outputs": [
        {
          "output_type": "stream",
          "text": [
            "[0.62428332 0.29308719 0.25345469 0.63514947 0.50053111]\n",
            "[[0.44043731 0.62428332 0.08114438]\n",
            " [0.29308719 0.13159168 0.75352434]\n",
            " [0.42663784 0.60002185 0.25345469]\n",
            " [0.63514947 0.37200145 0.69349193]\n",
            " [0.18385569 0.50053111 0.89945355]]\n",
            "[[0.44043731 0.31214166 0.08114438]\n",
            " [0.1465436  0.13159168 0.75352434]\n",
            " [0.42663784 0.60002185 0.12672735]\n",
            " [0.31757473 0.37200145 0.69349193]\n",
            " [0.18385569 0.25026555 0.89945355]]\n",
            "[[0.44043731 0.31214166 0.08114438]\n",
            " [0.1465436  0.13159168 3.76762168]\n",
            " [0.42663784 0.60002185 0.12672735]\n",
            " [1.58787367 0.37200145 0.69349193]\n",
            " [0.18385569 1.25132776 0.89945355]]\n"
          ],
          "name": "stdout"
        }
      ]
    },
    {
      "cell_type": "code",
      "metadata": {
        "colab": {
          "base_uri": "https://localhost:8080/"
        },
        "id": "zoka9DNSI9C0",
        "outputId": "1381df38-a7fa-43fd-f147-c8623ab88469"
      },
      "source": [
        "# numpy with boolean indexing\n",
        "x=np.random.random([3,3])\n",
        "sel_ind=x>0.5\n",
        "print(sel_ind)\n",
        "print(x[sel_ind])"
      ],
      "execution_count": null,
      "outputs": [
        {
          "output_type": "stream",
          "text": [
            "[[ True  True False]\n",
            " [ True  True False]\n",
            " [False  True False]]\n",
            "[0.68172656 0.96413036 0.51887193 0.91725844 0.93999055]\n"
          ],
          "name": "stdout"
        }
      ]
    },
    {
      "cell_type": "code",
      "metadata": {
        "colab": {
          "base_uri": "https://localhost:8080/"
        },
        "id": "HfR9QFAgKCnz",
        "outputId": "6ba4e09e-150f-44c2-ffc4-7d1a70b164be"
      },
      "source": [
        "# some np arrays with particular tyoe of values\n",
        "x=np.zeros((3,2))\n",
        "print(x)\n",
        "y=np.ones((2,2))\n",
        "print(y)\n",
        "i=np.eye(2)\n",
        "print(i)\n",
        "c=np.full((2,2),3)\n",
        "print(c)"
      ],
      "execution_count": null,
      "outputs": [
        {
          "output_type": "stream",
          "text": [
            "[[0. 0.]\n",
            " [0. 0.]\n",
            " [0. 0.]]\n",
            "[[1. 1.]\n",
            " [1. 1.]]\n",
            "[[1. 0.]\n",
            " [0. 1.]]\n",
            "[[3 3]\n",
            " [3 3]]\n"
          ],
          "name": "stdout"
        }
      ]
    },
    {
      "cell_type": "code",
      "metadata": {
        "colab": {
          "base_uri": "https://localhost:8080/"
        },
        "id": "q8BYkcvhKfQD",
        "outputId": "0e948950-92c4-4c1b-8f0a-a2940eee5120"
      },
      "source": [
        "# Numpy Datatypes - allow us to use arrays of multiple datatypes\n",
        "x=np.array([1,2,3])\n",
        "print(x.dtype)\n",
        "y=np.array([1.,2.,3])\n",
        "print(y.dtype)\n",
        "z=x+y\n",
        "print(z.dtype)"
      ],
      "execution_count": null,
      "outputs": [
        {
          "output_type": "stream",
          "text": [
            "int64\n",
            "float64\n",
            "float64\n"
          ],
          "name": "stdout"
        }
      ]
    },
    {
      "cell_type": "code",
      "metadata": {
        "colab": {
          "base_uri": "https://localhost:8080/"
        },
        "id": "ICAhLLSoLEHg",
        "outputId": "eebb83b3-e3ac-400d-8735-51a4bc316dfb"
      },
      "source": [
        "x=np.random.randint(0,9,(1,4))\n",
        "y=np.random.randint(2,5,(1,4))\n",
        "print(x+y)\n",
        "print(np.add(x,y))\n",
        "\n",
        "print(np.sqrt(x),np.sqrt(y))"
      ],
      "execution_count": null,
      "outputs": [
        {
          "output_type": "stream",
          "text": [
            "[[11  7  4  7]]\n",
            "[[11  7  4  7]]\n",
            "[[2.64575131 2.         0.         1.73205081]] [[2.         1.73205081 2.         2.        ]]\n"
          ],
          "name": "stdout"
        }
      ]
    },
    {
      "cell_type": "code",
      "metadata": {
        "colab": {
          "base_uri": "https://localhost:8080/"
        },
        "id": "SgM9GHvML0FF",
        "outputId": "0ad37e8b-eac3-41d0-83bb-171c22b99182"
      },
      "source": [
        "# multiplication of matric using np.dot or np.matmul\n",
        "# if both arrays in np.dot are multidimensional np.dot returns the product\n",
        "# sum over the last dimension of the first array and second to last dimension\n",
        "# of the second array\n",
        "# note: for complex conjugate dot product use np.vdot\n",
        "\n",
        "x=np.random.randint(0,9,(4,))\n",
        "y=np.random.randint(0,9,(4,))\n",
        "\n",
        "print(x.shape,y.shape)\n",
        "print(x.dot(y.T))\n",
        "print(np.dot(x,y.T))\n",
        "print(np.matmul(x,y))\n",
        "\n",
        "x_f=np.random.randint(0,9,(1,4))\n",
        "y_f=np.random.randint(0,9,(4,1))\n",
        "\n",
        "print(x.shape,y.shape)\n",
        "print(x_f.dot(y_f))\n",
        "print(np.dot(x_f,y_f))\n",
        "print(np.matmul(x_f,y_f))\n",
        "\n",
        "w=np.random.randint(0,9,(3,4))\n",
        "z=np.random.randint(0,9,(4,3))\n",
        "\n",
        "print(w.dot(z))\n",
        "print(np.dot(w,z))\n",
        "print(np.matmul(w,z))\n"
      ],
      "execution_count": null,
      "outputs": [
        {
          "output_type": "stream",
          "text": [
            "(4,) (4,)\n",
            "57\n",
            "57\n",
            "57\n",
            "(4,) (4,)\n",
            "[[61]]\n",
            "[[61]]\n",
            "[[61]]\n",
            "[[54 35 47]\n",
            " [49 27 51]\n",
            " [94 40 80]]\n",
            "[[54 35 47]\n",
            " [49 27 51]\n",
            " [94 40 80]]\n",
            "[[54 35 47]\n",
            " [49 27 51]\n",
            " [94 40 80]]\n"
          ],
          "name": "stdout"
        }
      ]
    },
    {
      "cell_type": "code",
      "metadata": {
        "colab": {
          "base_uri": "https://localhost:8080/"
        },
        "id": "tf8EI4zFwkB3",
        "outputId": "0cbc5247-bf20-4600-967c-6ffd9581bc44"
      },
      "source": [
        "x=np.random.randint(0,9,(3,4,2))\n",
        "\n",
        "print('x is :',x)\n",
        "print('sum of x is:',np.sum(x))\n",
        "print(np.sum(x,axis=0))\n",
        "print(np.sum(x,axis=1))\n",
        "print(np.sum(x,axis=2))"
      ],
      "execution_count": null,
      "outputs": [
        {
          "output_type": "stream",
          "text": [
            "x is : [[[3 5]\n",
            "  [8 6]\n",
            "  [6 7]\n",
            "  [3 4]]\n",
            "\n",
            " [[0 3]\n",
            "  [7 5]\n",
            "  [8 3]\n",
            "  [8 0]]\n",
            "\n",
            " [[7 4]\n",
            "  [3 4]\n",
            "  [6 1]\n",
            "  [6 4]]]\n",
            "sum of x is: 111\n",
            "[[10 12]\n",
            " [18 15]\n",
            " [20 11]\n",
            " [17  8]]\n",
            "[[20 22]\n",
            " [23 11]\n",
            " [22 13]]\n",
            "[[ 8 14 13  7]\n",
            " [ 3 12 11  8]\n",
            " [11  7  7 10]]\n"
          ],
          "name": "stdout"
        }
      ]
    },
    {
      "cell_type": "code",
      "metadata": {
        "colab": {
          "base_uri": "https://localhost:8080/"
        },
        "id": "SNiNu2e3qmYt",
        "outputId": "7a4cdef4-715b-4bcb-de52-f5ab77d9dcbc"
      },
      "source": [
        "x=np.random.randint(0,9,(3,4,2))\n",
        "print('x is :',x)\n",
        "print('max of x is:',np.max(x))\n",
        "print(np.max(x,axis=0))\n",
        "print(np.max(x,axis=1))\n",
        "print(np.max(x,axis=2))\n"
      ],
      "execution_count": null,
      "outputs": [
        {
          "output_type": "stream",
          "text": [
            "x is : [[[1 1]\n",
            "  [5 4]\n",
            "  [8 4]\n",
            "  [7 8]]\n",
            "\n",
            " [[6 1]\n",
            "  [6 0]\n",
            "  [4 2]\n",
            "  [5 2]]\n",
            "\n",
            " [[4 3]\n",
            "  [5 5]\n",
            "  [4 4]\n",
            "  [3 1]]]\n",
            "max of x is: 8\n",
            "[[6 3]\n",
            " [6 5]\n",
            " [8 4]\n",
            " [7 8]]\n",
            "[[8 8]\n",
            " [6 2]\n",
            " [5 5]]\n",
            "[[1 5 8 8]\n",
            " [6 6 4 5]\n",
            " [4 5 4 3]]\n"
          ],
          "name": "stdout"
        }
      ]
    },
    {
      "cell_type": "code",
      "metadata": {
        "colab": {
          "base_uri": "https://localhost:8080/"
        },
        "id": "MBeAn5FisLPe",
        "outputId": "6f250642-6212-421f-8207-b82f4df68550"
      },
      "source": [
        "x=np.random.randint(0,9,(2,2))\n",
        "y=np.random.randint(0,9,(2,2))\n",
        "print(x)\n",
        "print(y)\n",
        "\n",
        "np.copyto(x,y) #copy y to x\n",
        "print(x)\n",
        "print(y)"
      ],
      "execution_count": null,
      "outputs": [
        {
          "output_type": "stream",
          "text": [
            "[[3 6]\n",
            " [3 6]]\n",
            "[[4 4]\n",
            " [7 0]]\n",
            "[[4 4]\n",
            " [7 0]]\n",
            "[[4 4]\n",
            " [7 0]]\n"
          ],
          "name": "stdout"
        }
      ]
    },
    {
      "cell_type": "code",
      "metadata": {
        "colab": {
          "base_uri": "https://localhost:8080/"
        },
        "id": "zGrph0WAsiJd",
        "outputId": "e7e09dab-5f10-49a0-9f2a-678679effd80"
      },
      "source": [
        "# Reshape an array using np.reshape. size of the original array and the reshaped array should be the same. \n",
        "# can check using np.ndarray.size\n",
        "x=np.random.randint(0,9,(4,3))\n",
        "y=np.reshape(x,(2,6))\n",
        "print(x)\n",
        "print(y)\n",
        "\n",
        "print(np.ravel(x,order='C'))\n",
        "\n",
        "v=x.flat\n",
        "print(v[6])\n",
        "\n",
        "u=x.flatten()\n",
        "print(u)"
      ],
      "execution_count": null,
      "outputs": [
        {
          "output_type": "stream",
          "text": [
            "[[8 2 0]\n",
            " [7 2 0]\n",
            " [0 4 6]\n",
            " [0 7 5]]\n",
            "[[8 2 0 7 2 0]\n",
            " [0 4 6 0 7 5]]\n",
            "[8 2 0 7 2 0 0 4 6 0 7 5]\n",
            "0\n",
            "[8 2 0 7 2 0 0 4 6 0 7 5]\n"
          ],
          "name": "stdout"
        }
      ]
    },
    {
      "cell_type": "code",
      "metadata": {
        "colab": {
          "base_uri": "https://localhost:8080/"
        },
        "id": "TI67d3QctD9-",
        "outputId": "74eb83d0-945a-4d0d-f089-0156c08bd7bb"
      },
      "source": [
        "# transposition or moving dimensions\n",
        "v=np.random.randint(0,9,(1,4))\n",
        "print(v,v.T)\n",
        "x=np.random.randint(0,9,(2,3))\n",
        "print(x)\n",
        "print(x.T)\n",
        "\n",
        "z=np.zeros((2,3,4))\n",
        "print(z.shape)\n",
        "print(np.moveaxis(z,0,1).shape)\n",
        "print(np.moveaxis(z,0,2).shape)\n",
        "\n",
        "w=np.ones((5,3,4))\n",
        "print(w.shape)\n",
        "print(np.swapaxes(w,0,2).shape)\n",
        "\n",
        "print(np.transpose(w, axes=(2,1,0)).shape)\n",
        "print(np.transpose(w,axes=(0,1,2)).shape)"
      ],
      "execution_count": null,
      "outputs": [
        {
          "output_type": "stream",
          "text": [
            "[[0 3 4 3]] [[0]\n",
            " [3]\n",
            " [4]\n",
            " [3]]\n",
            "[[3 0 8]\n",
            " [2 8 0]]\n",
            "[[3 2]\n",
            " [0 8]\n",
            " [8 0]]\n",
            "(2, 3, 4)\n",
            "(3, 2, 4)\n",
            "(3, 4, 2)\n",
            "(5, 3, 4)\n",
            "(4, 3, 5)\n",
            "(4, 3, 5)\n",
            "(5, 3, 4)\n"
          ],
          "name": "stdout"
        }
      ]
    },
    {
      "cell_type": "code",
      "metadata": {
        "colab": {
          "base_uri": "https://localhost:8080/"
        },
        "id": "zA9QoB9ny5Ij",
        "outputId": "645eb65a-c8e6-4003-89da-154eb995a2b9"
      },
      "source": [
        "# Numpy Broadcasting\n",
        "# Broadcasting is a tool in numpy which allows for operation on numoy arrays without the need for looping over all the elements of numpy array\n",
        "import numpy as np\n",
        "\n",
        "x=np.ones((1,2,3))\n",
        "y=0.5*np.ones((3))\n",
        "\n",
        "print(x*y,(x*y).shape)\n",
        "\n",
        "x=np.ones((1,2,3))\n",
        "y=0.5*np.ones((5,1,3))\n",
        "\n",
        "print(x*y,(x*y).shape)"
      ],
      "execution_count": null,
      "outputs": [
        {
          "output_type": "stream",
          "text": [
            "[[[0.5 0.5 0.5]\n",
            "  [0.5 0.5 0.5]]] (1, 2, 3)\n",
            "[[[0.5 0.5 0.5]\n",
            "  [0.5 0.5 0.5]]\n",
            "\n",
            " [[0.5 0.5 0.5]\n",
            "  [0.5 0.5 0.5]]\n",
            "\n",
            " [[0.5 0.5 0.5]\n",
            "  [0.5 0.5 0.5]]\n",
            "\n",
            " [[0.5 0.5 0.5]\n",
            "  [0.5 0.5 0.5]]\n",
            "\n",
            " [[0.5 0.5 0.5]\n",
            "  [0.5 0.5 0.5]]] (5, 2, 3)\n"
          ],
          "name": "stdout"
        }
      ]
    },
    {
      "cell_type": "code",
      "metadata": {
        "id": "6DyJv7mrumRL"
      },
      "source": [
        "import matplotlib.pyplot as plt\n"
      ],
      "execution_count": null,
      "outputs": []
    }
  ]
}